{
 "cells": [
  {
   "cell_type": "code",
   "execution_count": 1,
   "metadata": {},
   "outputs": [],
   "source": [
    "import pandas as pd\n",
    "import numpy as np\n",
    "import sklearn.cluster as sc\n",
    "from collections import Counter\n",
    "from sklearn.neighbors import KNeighborsClassifier"
   ]
  },
  {
   "cell_type": "code",
   "execution_count": 14,
   "metadata": {},
   "outputs": [
    {
     "name": "stdout",
     "output_type": "stream",
     "text": [
      "距离新用户距离最近的用户: [[  0   3 184  35  71]]\n",
      "Counter({'剧情': 5, '喜剧': 4, '爱情': 4, '古装': 2, '真人秀': 1, '短片': 1, '科幻': 1, '家庭': 1, '音乐': 1})\n",
      "<class 'pandas.core.frame.DataFrame'>\n",
      "用户ID为: 165852925\n",
      "看过的电影: ['你的婚礼 너의 결혼식', '第三种魅力 제3의 매력', '金秘书为何那样 김비서가 왜 그럴까', '我的！体育老师']\n",
      "用户ID为: 150932792\n",
      "看过的电影: ['明星大侦探 第三季', '0', '咱们穿越吧 第一季', '女婿上门了', '颤抖吧阿部之朵星风云', '公主小妹', '人不彪悍枉少年', '生活对我下手了']\n",
      "用户ID为: 194098703\n",
      "看过的电影: ['夜以继日 寝ても覚めても']\n",
      "用户ID为: 188016508\n",
      "看过的电影: ['老爸102岁 102 Not Out']\n",
      "用户ID为: 144189700\n",
      "看过的电影: ['父母爱情', '东宫', '再创世纪', \"海上钢琴师 La leggenda del pianista sull'oceano\", '初恋这件小事 สิ่งเล็กเล็กที่เรียกว่า...รัก', '怦然心动 Flipped', '21克拉', '小森林 리틀 포레스트', '神秘巨星 Secret Superstar']\n"
     ]
    }
   ],
   "source": [
    "# 得到数据\n",
    "def get_data():\n",
    "    data = pd.read_csv('../terdata/u_bool_type.csv',header=None)\n",
    "    data = data.drop([0],axis=1)\n",
    "    m_type = pd.read_csv('../middata/m_type.csv', header=None)\n",
    "    u_id = pd.read_csv('../middata/u_idx.csv',header=None)\n",
    "    u_id = u_id.drop([0],axis=1)\n",
    "    u_score = pd.read_csv('../basedata/u_score.csv',header=None)\n",
    "    m_name = pd.read_csv('../basedata/m_name.csv',header=None)\n",
    "    return data, m_type, u_id, u_score, m_name\n",
    "\n",
    "# k-means 做用户聚类\n",
    "def train_model(data):\n",
    "    data = np.array(data)\n",
    "    model = sc.KMeans(n_clusters=5)\n",
    "    model.fit(data)\n",
    "    pred_c = model.predict(data)\n",
    "    return pred_c\n",
    "\n",
    "# knn 依据用户标签找相邻用户\n",
    "def neighbors(data, pred_c, new_user):\n",
    "    knn = KNeighborsClassifier(n_neighbors=5)\n",
    "    knn.fit(data, pred_c)\n",
    "    n_knn = knn.predict(new_user)\n",
    "    y, idx = knn.kneighbors(new_user, n_neighbors=5)\n",
    "    print(\"距离新用户距离最近的用户:\", idx)\n",
    "    return idx\n",
    "\n",
    "# 得到近邻用户喜爱的电影类型\n",
    "def get_type(data, idx, m_type):\n",
    "    type = []\n",
    "    # 遍历每一个相似用户\n",
    "    for i in idx[0]:\n",
    "        for ind, t in enumerate(data.loc[i]):\n",
    "            if t == 1:\n",
    "                type.append(m_type.loc[ind, 1])\n",
    "    dict_type_num = Counter(type)\n",
    "    print(dict_type_num)\n",
    "    return dict_type_num\n",
    "\n",
    "# 依据电影类型找电影，将用户没有看过的电影推荐给他\n",
    "def get_movies(idx, u_id, u_score, m_name):\n",
    "    print(type(u_id))\n",
    "    for i in idx[0]:\n",
    "        movie_list = []\n",
    "        user = u_id.loc[i, 1] # user的真实id\n",
    "        for i in range(len(u_score)):\n",
    "            if user == u_score.loc[i, 1]: \n",
    "                m_id = u_score.loc[i, 0] # 相似用户看过的电影id\n",
    "                for i in range(len(m_name)):\n",
    "                    if m_id == m_name.loc[i, 0] and m_name.loc[i, 1] not in movie_list:\n",
    "                        movie_list.append(m_name.loc[i, 1])\n",
    "        print(\"用户ID为:\", user)\n",
    "        print(\"看过的电影:\", movie_list)\n",
    "\n",
    "def main():\n",
    "    new_user = [[0, 0, 0, 1, 0, 0, 0, 0, 1, 0, 1, 0, 0 , 1, \n",
    "    0, 0, 0, 0, 1, 0, 0, 1, 0, 1, 0, 0, 0, 0, 0, 0, 0, 0]]\n",
    "    data, m_type, u_id, u_score, m_name = get_data()\n",
    "    pred_c = train_model(data)\n",
    "    # u_tag(pred_c)\n",
    "    idx = neighbors(data, pred_c, new_user)\n",
    "    dict_type_num = get_type(data, idx, m_type)\n",
    "    get_movies(idx, u_id, u_score, m_name)\n",
    "    \n",
    "main()"
   ]
  },
  {
   "cell_type": "code",
   "execution_count": 3,
   "metadata": {},
   "outputs": [],
   "source": [
    "data, m_type, u_id, u_score, m_name = get_data()"
   ]
  },
  {
   "cell_type": "code",
   "execution_count": 9,
   "metadata": {},
   "outputs": [
    {
     "data": {
      "text/html": [
       "<div>\n",
       "<style scoped>\n",
       "    .dataframe tbody tr th:only-of-type {\n",
       "        vertical-align: middle;\n",
       "    }\n",
       "\n",
       "    .dataframe tbody tr th {\n",
       "        vertical-align: top;\n",
       "    }\n",
       "\n",
       "    .dataframe thead th {\n",
       "        text-align: right;\n",
       "    }\n",
       "</style>\n",
       "<table border=\"1\" class=\"dataframe\">\n",
       "  <thead>\n",
       "    <tr style=\"text-align: right;\">\n",
       "      <th></th>\n",
       "      <th>0</th>\n",
       "      <th>1</th>\n",
       "    </tr>\n",
       "  </thead>\n",
       "  <tbody>\n",
       "    <tr>\n",
       "      <td>0</td>\n",
       "      <td>30163509</td>\n",
       "      <td>飞驰人生</td>\n",
       "    </tr>\n",
       "    <tr>\n",
       "      <td>1</td>\n",
       "      <td>4840388</td>\n",
       "      <td>新喜剧之王</td>\n",
       "    </tr>\n",
       "    <tr>\n",
       "      <td>2</td>\n",
       "      <td>26369709</td>\n",
       "      <td>欢迎来到马文镇 Welcome to Marwen</td>\n",
       "    </tr>\n",
       "  </tbody>\n",
       "</table>\n",
       "</div>"
      ],
      "text/plain": [
       "          0                          1\n",
       "0  30163509                       飞驰人生\n",
       "1   4840388                      新喜剧之王\n",
       "2  26369709  欢迎来到马文镇 Welcome to Marwen"
      ]
     },
     "execution_count": 9,
     "metadata": {},
     "output_type": "execute_result"
    }
   ],
   "source": [
    "m_name.head(3)"
   ]
  },
  {
   "cell_type": "code",
   "execution_count": null,
   "metadata": {},
   "outputs": [],
   "source": []
  }
 ],
 "metadata": {
  "kernelspec": {
   "display_name": "Python 3",
   "language": "python",
   "name": "python3"
  },
  "language_info": {
   "codemirror_mode": {
    "name": "ipython",
    "version": 3
   },
   "file_extension": ".py",
   "mimetype": "text/x-python",
   "name": "python",
   "nbconvert_exporter": "python",
   "pygments_lexer": "ipython3",
   "version": "3.6.8"
  }
 },
 "nbformat": 4,
 "nbformat_minor": 2
}
